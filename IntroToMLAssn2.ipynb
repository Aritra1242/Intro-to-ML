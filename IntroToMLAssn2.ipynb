{
 "cells": [
  {
   "cell_type": "code",
   "execution_count": 1,
   "metadata": {},
   "outputs": [],
   "source": [
    "import pandas as pd\n",
    "import numpy as np  \n",
    "import matplotlib.pyplot as plt  \n",
    "import seaborn as sns\n",
    "from sklearn.model_selection import train_test_split \n",
    "from sklearn import metrics\n",
    "from sklearn.metrics import accuracy_score\n",
    "%matplotlib inline"
   ]
  },
  {
   "cell_type": "code",
   "execution_count": 2,
   "metadata": {},
   "outputs": [],
   "source": [
    "variable = pd.read_csv(r\"C:\\Users\\cdot\\Downloads\\M1_final.csv\")"
   ]
  },
  {
   "cell_type": "code",
   "execution_count": 3,
   "metadata": {},
   "outputs": [
    {
     "data": {
      "text/html": [
       "<div>\n",
       "<style scoped>\n",
       "    .dataframe tbody tr th:only-of-type {\n",
       "        vertical-align: middle;\n",
       "    }\n",
       "\n",
       "    .dataframe tbody tr th {\n",
       "        vertical-align: top;\n",
       "    }\n",
       "\n",
       "    .dataframe thead th {\n",
       "        text-align: right;\n",
       "    }\n",
       "</style>\n",
       "<table border=\"1\" class=\"dataframe\">\n",
       "  <thead>\n",
       "    <tr style=\"text-align: right;\">\n",
       "      <th></th>\n",
       "      <th>MONTH</th>\n",
       "      <th>DAY_OF_MONTH</th>\n",
       "      <th>DAY_OF_WEEK</th>\n",
       "      <th>OP_UNIQUE_CARRIER</th>\n",
       "      <th>TAIL_NUM</th>\n",
       "      <th>DEST</th>\n",
       "      <th>DEP_DELAY</th>\n",
       "      <th>CRS_ELAPSED_TIME</th>\n",
       "      <th>DISTANCE</th>\n",
       "      <th>CRS_DEP_M</th>\n",
       "      <th>...</th>\n",
       "      <th>Dew Point</th>\n",
       "      <th>Humidity</th>\n",
       "      <th>Wind</th>\n",
       "      <th>Wind Speed</th>\n",
       "      <th>Wind Gust</th>\n",
       "      <th>Pressure</th>\n",
       "      <th>Condition</th>\n",
       "      <th>sch_dep</th>\n",
       "      <th>sch_arr</th>\n",
       "      <th>TAXI_OUT</th>\n",
       "    </tr>\n",
       "  </thead>\n",
       "  <tbody>\n",
       "    <tr>\n",
       "      <th>0</th>\n",
       "      <td>11</td>\n",
       "      <td>1</td>\n",
       "      <td>5</td>\n",
       "      <td>B6</td>\n",
       "      <td>N828JB</td>\n",
       "      <td>CHS</td>\n",
       "      <td>-1</td>\n",
       "      <td>124</td>\n",
       "      <td>636</td>\n",
       "      <td>324</td>\n",
       "      <td>...</td>\n",
       "      <td>34</td>\n",
       "      <td>58</td>\n",
       "      <td>W</td>\n",
       "      <td>25</td>\n",
       "      <td>38</td>\n",
       "      <td>29.86</td>\n",
       "      <td>Fair / Windy</td>\n",
       "      <td>9</td>\n",
       "      <td>17</td>\n",
       "      <td>14</td>\n",
       "    </tr>\n",
       "    <tr>\n",
       "      <th>1</th>\n",
       "      <td>11</td>\n",
       "      <td>1</td>\n",
       "      <td>5</td>\n",
       "      <td>B6</td>\n",
       "      <td>N992JB</td>\n",
       "      <td>LAX</td>\n",
       "      <td>-7</td>\n",
       "      <td>371</td>\n",
       "      <td>2475</td>\n",
       "      <td>340</td>\n",
       "      <td>...</td>\n",
       "      <td>34</td>\n",
       "      <td>58</td>\n",
       "      <td>W</td>\n",
       "      <td>25</td>\n",
       "      <td>38</td>\n",
       "      <td>29.86</td>\n",
       "      <td>Fair / Windy</td>\n",
       "      <td>9</td>\n",
       "      <td>17</td>\n",
       "      <td>15</td>\n",
       "    </tr>\n",
       "    <tr>\n",
       "      <th>2</th>\n",
       "      <td>11</td>\n",
       "      <td>1</td>\n",
       "      <td>5</td>\n",
       "      <td>B6</td>\n",
       "      <td>N959JB</td>\n",
       "      <td>FLL</td>\n",
       "      <td>40</td>\n",
       "      <td>181</td>\n",
       "      <td>1069</td>\n",
       "      <td>301</td>\n",
       "      <td>...</td>\n",
       "      <td>34</td>\n",
       "      <td>58</td>\n",
       "      <td>W</td>\n",
       "      <td>25</td>\n",
       "      <td>38</td>\n",
       "      <td>29.86</td>\n",
       "      <td>Fair / Windy</td>\n",
       "      <td>9</td>\n",
       "      <td>17</td>\n",
       "      <td>22</td>\n",
       "    </tr>\n",
       "    <tr>\n",
       "      <th>3</th>\n",
       "      <td>11</td>\n",
       "      <td>1</td>\n",
       "      <td>5</td>\n",
       "      <td>B6</td>\n",
       "      <td>N999JQ</td>\n",
       "      <td>MCO</td>\n",
       "      <td>-2</td>\n",
       "      <td>168</td>\n",
       "      <td>944</td>\n",
       "      <td>345</td>\n",
       "      <td>...</td>\n",
       "      <td>34</td>\n",
       "      <td>58</td>\n",
       "      <td>W</td>\n",
       "      <td>25</td>\n",
       "      <td>38</td>\n",
       "      <td>29.86</td>\n",
       "      <td>Fair / Windy</td>\n",
       "      <td>9</td>\n",
       "      <td>17</td>\n",
       "      <td>12</td>\n",
       "    </tr>\n",
       "    <tr>\n",
       "      <th>4</th>\n",
       "      <td>11</td>\n",
       "      <td>1</td>\n",
       "      <td>5</td>\n",
       "      <td>DL</td>\n",
       "      <td>N880DN</td>\n",
       "      <td>ATL</td>\n",
       "      <td>-4</td>\n",
       "      <td>139</td>\n",
       "      <td>760</td>\n",
       "      <td>360</td>\n",
       "      <td>...</td>\n",
       "      <td>32</td>\n",
       "      <td>58</td>\n",
       "      <td>W</td>\n",
       "      <td>24</td>\n",
       "      <td>35</td>\n",
       "      <td>29.91</td>\n",
       "      <td>Fair / Windy</td>\n",
       "      <td>9</td>\n",
       "      <td>17</td>\n",
       "      <td>13</td>\n",
       "    </tr>\n",
       "  </tbody>\n",
       "</table>\n",
       "<p>5 rows × 23 columns</p>\n",
       "</div>"
      ],
      "text/plain": [
       "   MONTH  DAY_OF_MONTH  DAY_OF_WEEK OP_UNIQUE_CARRIER TAIL_NUM DEST  \\\n",
       "0     11             1            5                B6   N828JB  CHS   \n",
       "1     11             1            5                B6   N992JB  LAX   \n",
       "2     11             1            5                B6   N959JB  FLL   \n",
       "3     11             1            5                B6   N999JQ  MCO   \n",
       "4     11             1            5                DL   N880DN  ATL   \n",
       "\n",
       "   DEP_DELAY  CRS_ELAPSED_TIME  DISTANCE  CRS_DEP_M  ...  Dew Point  Humidity  \\\n",
       "0         -1               124       636        324  ...         34        58   \n",
       "1         -7               371      2475        340  ...         34        58   \n",
       "2         40               181      1069        301  ...         34        58   \n",
       "3         -2               168       944        345  ...         34        58   \n",
       "4         -4               139       760        360  ...         32        58   \n",
       "\n",
       "   Wind Wind Speed  Wind Gust Pressure     Condition  sch_dep  sch_arr  \\\n",
       "0     W         25         38    29.86  Fair / Windy        9       17   \n",
       "1     W         25         38    29.86  Fair / Windy        9       17   \n",
       "2     W         25         38    29.86  Fair / Windy        9       17   \n",
       "3     W         25         38    29.86  Fair / Windy        9       17   \n",
       "4     W         24         35    29.91  Fair / Windy        9       17   \n",
       "\n",
       "  TAXI_OUT  \n",
       "0       14  \n",
       "1       15  \n",
       "2       22  \n",
       "3       12  \n",
       "4       13  \n",
       "\n",
       "[5 rows x 23 columns]"
      ]
     },
     "execution_count": 3,
     "metadata": {},
     "output_type": "execute_result"
    }
   ],
   "source": [
    "variable.head()"
   ]
  },
  {
   "cell_type": "code",
   "execution_count": 4,
   "metadata": {},
   "outputs": [
    {
     "data": {
      "text/plain": [
       "(28820, 23)"
      ]
     },
     "execution_count": 4,
     "metadata": {},
     "output_type": "execute_result"
    }
   ],
   "source": [
    "variable.shape"
   ]
  },
  {
   "cell_type": "code",
   "execution_count": 5,
   "metadata": {},
   "outputs": [],
   "source": [
    "X = variable.drop(columns = 'TAXI_OUT',axis=1)\n",
    "Y = variable['TAXI_OUT']"
   ]
  },
  {
   "cell_type": "code",
   "execution_count": 6,
   "metadata": {},
   "outputs": [
    {
     "name": "stdout",
     "output_type": "stream",
     "text": [
      "Shape of X is (28820, 22)\n",
      "Shape of Y is (28820,)\n"
     ]
    }
   ],
   "source": [
    "print(\"Shape of X is\",X.shape)\n",
    "print(\"Shape of Y is\",Y.shape)"
   ]
  },
  {
   "cell_type": "markdown",
   "metadata": {},
   "source": [
    "# Label Encoding"
   ]
  },
  {
   "cell_type": "code",
   "execution_count": 7,
   "metadata": {},
   "outputs": [],
   "source": [
    "from sklearn.preprocessing import LabelEncoder\n",
    "LE=LabelEncoder()"
   ]
  },
  {
   "cell_type": "code",
   "execution_count": 8,
   "metadata": {},
   "outputs": [],
   "source": [
    "X['OP_UNIQUE_CARRIER']=LE.fit_transform(X['OP_UNIQUE_CARRIER'])\n",
    "X['TAIL_NUM']=LE.fit_transform(X['TAIL_NUM'])\n",
    "X['DEST']=LE.fit_transform(X['DEST'])\n",
    "X['Wind']=LE.fit_transform(X['Wind'].astype(str))\n",
    "X['Condition']=LE.fit_transform(X['Condition'])"
   ]
  },
  {
   "cell_type": "code",
   "execution_count": 9,
   "metadata": {},
   "outputs": [],
   "source": [
    "# training and testing the data"
   ]
  },
  {
   "cell_type": "code",
   "execution_count": 10,
   "metadata": {},
   "outputs": [],
   "source": [
    "X_train,X_test,Y_train,Y_test = train_test_split(X,Y,test_size=0.1,random_state=1)"
   ]
  },
  {
   "cell_type": "code",
   "execution_count": 11,
   "metadata": {},
   "outputs": [
    {
     "name": "stdout",
     "output_type": "stream",
     "text": [
      "(25938, 22) (2882, 22) (25938,) (2882,)\n"
     ]
    }
   ],
   "source": [
    "print(X_train.shape,X_test.shape,Y_train.shape,Y_test.shape)"
   ]
  },
  {
   "cell_type": "code",
   "execution_count": 12,
   "metadata": {},
   "outputs": [],
   "source": [
    "rmse=np.empty(8,dtype=float)\n",
    "#creating array to store mse"
   ]
  },
  {
   "cell_type": "markdown",
   "metadata": {},
   "source": [
    "# 1.Linear Regression"
   ]
  },
  {
   "cell_type": "code",
   "execution_count": 13,
   "metadata": {},
   "outputs": [
    {
     "name": "stdout",
     "output_type": "stream",
     "text": [
      "6.507425087582124\n"
     ]
    }
   ],
   "source": [
    "from sklearn.linear_model import LinearRegression\n",
    "from sklearn.metrics import mean_squared_error\n",
    "\n",
    "lng=LinearRegression()\n",
    "lng.fit(X_train,Y_train)\n",
    "pred1 = lng.predict(X_test)\n",
    "rmse[0] = mean_squared_error(Y_test,pred1)**0.5\n",
    "print(rmse[0])"
   ]
  },
  {
   "cell_type": "markdown",
   "metadata": {},
   "source": [
    "# 2. Ridge Regression"
   ]
  },
  {
   "cell_type": "code",
   "execution_count": 14,
   "metadata": {},
   "outputs": [
    {
     "name": "stdout",
     "output_type": "stream",
     "text": [
      "6.5293151681677255\n"
     ]
    }
   ],
   "source": [
    "from sklearn.linear_model import Ridge\n",
    "ridge = Ridge(alpha=0.05,normalize = True)\n",
    "ridge.fit(X_train,Y_train)\n",
    "pred2 = ridge.predict(X_test)\n",
    "rmse[1] = mean_squared_error(Y_test,pred2)**0.5\n",
    "print(rmse[1])"
   ]
  },
  {
   "cell_type": "markdown",
   "metadata": {},
   "source": [
    "# 3. Lasso Regression"
   ]
  },
  {
   "cell_type": "code",
   "execution_count": 15,
   "metadata": {},
   "outputs": [
    {
     "name": "stdout",
     "output_type": "stream",
     "text": [
      "6.832364662675594\n"
     ]
    }
   ],
   "source": [
    "from sklearn.linear_model import Lasso\n",
    "lasreg=Lasso(alpha=0.03, normalize=True)\n",
    "lasreg.fit(X_train,Y_train)\n",
    "pred3=lasreg.predict(X_test)\n",
    "rmse[2]=mean_squared_error(Y_test,pred3)**0.5\n",
    "print(rmse[2])"
   ]
  },
  {
   "cell_type": "markdown",
   "metadata": {},
   "source": [
    "# KNN Regression"
   ]
  },
  {
   "cell_type": "code",
   "execution_count": 16,
   "metadata": {},
   "outputs": [
    {
     "name": "stdout",
     "output_type": "stream",
     "text": [
      "6.632433757702544\n"
     ]
    }
   ],
   "source": [
    "from sklearn.neighbors import KNeighborsRegressor\n",
    "KNN=KNeighborsRegressor(n_neighbors=100)\n",
    "KNN.fit(X_train,Y_train)\n",
    "pred4=KNN.predict(X_test)\n",
    "rmse[3]=mean_squared_error(Y_test,pred4)**0.5\n",
    "print(rmse[3])"
   ]
  },
  {
   "cell_type": "markdown",
   "metadata": {},
   "source": [
    "# SVM Regression"
   ]
  },
  {
   "cell_type": "code",
   "execution_count": 17,
   "metadata": {},
   "outputs": [
    {
     "name": "stdout",
     "output_type": "stream",
     "text": [
      "6.243031999767116\n"
     ]
    }
   ],
   "source": [
    "from sklearn.preprocessing import StandardScaler\n",
    "from sklearn.svm import SVR\n",
    "std = StandardScaler()\n",
    "std_X_train = X_train.copy()\n",
    "std_X_train = std.fit_transform(std_X_train)\n",
    "std_X_test = X_test.copy()\n",
    "std_X_test = std.fit_transform(std_X_test)\n",
    "svr = SVR()\n",
    "svr.fit(std_X_train,Y_train)\n",
    "pred5 = svr.predict(std_X_test)\n",
    "rmse[4]=mean_squared_error(Y_test,pred5)**0.5\n",
    "print(rmse[4])"
   ]
  },
  {
   "cell_type": "markdown",
   "metadata": {},
   "source": [
    "# Naive Bayes Regression"
   ]
  },
  {
   "cell_type": "code",
   "execution_count": 18,
   "metadata": {},
   "outputs": [
    {
     "name": "stdout",
     "output_type": "stream",
     "text": [
      "6.514038406947584\n"
     ]
    }
   ],
   "source": [
    "from sklearn.linear_model import BayesianRidge\n",
    "NB=BayesianRidge()\n",
    "NB.fit(X_train,Y_train)\n",
    "pred6=NB.predict(X_test)\n",
    "rmse[5]=mean_squared_error(Y_test,pred6)**0.5\n",
    "print(rmse[5])"
   ]
  },
  {
   "cell_type": "markdown",
   "metadata": {},
   "source": [
    "# Random Forest Regression"
   ]
  },
  {
   "cell_type": "code",
   "execution_count": 19,
   "metadata": {},
   "outputs": [
    {
     "name": "stdout",
     "output_type": "stream",
     "text": [
      "5.626076132700023\n"
     ]
    }
   ],
   "source": [
    "from sklearn.ensemble import RandomForestRegressor\n",
    "RanFor=RandomForestRegressor()\n",
    "RanFor.fit(X_train,Y_train)\n",
    "pred7=RanFor.predict(X_test)\n",
    "rmse[6]=mean_squared_error(Y_test,pred7)**0.5\n",
    "print(rmse[6])"
   ]
  },
  {
   "cell_type": "markdown",
   "metadata": {},
   "source": [
    "# LightGBM"
   ]
  },
  {
   "cell_type": "code",
   "execution_count": 20,
   "metadata": {},
   "outputs": [],
   "source": [
    "from lightgbm import LGBMRegressor\n",
    "lgbm=LGBMRegressor()\n",
    "# Dew point field is producing error hence dropped the coloumn"
   ]
  },
  {
   "cell_type": "code",
   "execution_count": 21,
   "metadata": {},
   "outputs": [
    {
     "name": "stdout",
     "output_type": "stream",
     "text": [
      "5.728006919772796\n"
     ]
    }
   ],
   "source": [
    "X_lgbm_train=X_train.drop(\"Dew Point\",axis=1).copy()\n",
    "X_lgbm_test=X_test.drop(\"Dew Point\",axis=1).copy()\n",
    "lgbm.fit(X_lgbm_train,Y_train)\n",
    "pred8 = lgbm.predict(X_lgbm_test)\n",
    "rmse[7] = mean_squared_error(Y_test,pred8)**0.5\n",
    "print(rmse[7])"
   ]
  },
  {
   "cell_type": "markdown",
   "metadata": {},
   "source": [
    "# One Hot Encoding"
   ]
  },
  {
   "cell_type": "code",
   "execution_count": 22,
   "metadata": {},
   "outputs": [],
   "source": [
    "X1 = variable.drop(columns = 'TAXI_OUT',axis=1)\n",
    "Y1 = variable['TAXI_OUT']"
   ]
  },
  {
   "cell_type": "code",
   "execution_count": 23,
   "metadata": {},
   "outputs": [
    {
     "data": {
      "text/html": [
       "<div>\n",
       "<style scoped>\n",
       "    .dataframe tbody tr th:only-of-type {\n",
       "        vertical-align: middle;\n",
       "    }\n",
       "\n",
       "    .dataframe tbody tr th {\n",
       "        vertical-align: top;\n",
       "    }\n",
       "\n",
       "    .dataframe thead th {\n",
       "        text-align: right;\n",
       "    }\n",
       "</style>\n",
       "<table border=\"1\" class=\"dataframe\">\n",
       "  <thead>\n",
       "    <tr style=\"text-align: right;\">\n",
       "      <th></th>\n",
       "      <th>MONTH</th>\n",
       "      <th>DAY_OF_MONTH</th>\n",
       "      <th>DAY_OF_WEEK</th>\n",
       "      <th>OP_UNIQUE_CARRIER</th>\n",
       "      <th>TAIL_NUM</th>\n",
       "      <th>DEST</th>\n",
       "      <th>DEP_DELAY</th>\n",
       "      <th>CRS_ELAPSED_TIME</th>\n",
       "      <th>DISTANCE</th>\n",
       "      <th>CRS_DEP_M</th>\n",
       "      <th>...</th>\n",
       "      <th>Dew Point</th>\n",
       "      <th>Humidity</th>\n",
       "      <th>Wind</th>\n",
       "      <th>Wind Speed</th>\n",
       "      <th>Wind Gust</th>\n",
       "      <th>Pressure</th>\n",
       "      <th>Condition</th>\n",
       "      <th>sch_dep</th>\n",
       "      <th>sch_arr</th>\n",
       "      <th>TAXI_OUT</th>\n",
       "    </tr>\n",
       "  </thead>\n",
       "  <tbody>\n",
       "    <tr>\n",
       "      <th>28815</th>\n",
       "      <td>1</td>\n",
       "      <td>31</td>\n",
       "      <td>5</td>\n",
       "      <td>B6</td>\n",
       "      <td>N216JB</td>\n",
       "      <td>ORH</td>\n",
       "      <td>2</td>\n",
       "      <td>57</td>\n",
       "      <td>150</td>\n",
       "      <td>1370</td>\n",
       "      <td>...</td>\n",
       "      <td>38</td>\n",
       "      <td>96</td>\n",
       "      <td>N</td>\n",
       "      <td>6</td>\n",
       "      <td>0</td>\n",
       "      <td>30.18</td>\n",
       "      <td>Cloudy</td>\n",
       "      <td>20</td>\n",
       "      <td>32</td>\n",
       "      <td>19</td>\n",
       "    </tr>\n",
       "    <tr>\n",
       "      <th>28816</th>\n",
       "      <td>1</td>\n",
       "      <td>31</td>\n",
       "      <td>5</td>\n",
       "      <td>AA</td>\n",
       "      <td>N104NN</td>\n",
       "      <td>BOS</td>\n",
       "      <td>2</td>\n",
       "      <td>75</td>\n",
       "      <td>187</td>\n",
       "      <td>1390</td>\n",
       "      <td>...</td>\n",
       "      <td>38</td>\n",
       "      <td>96</td>\n",
       "      <td>N</td>\n",
       "      <td>6</td>\n",
       "      <td>0</td>\n",
       "      <td>30.18</td>\n",
       "      <td>Cloudy</td>\n",
       "      <td>19</td>\n",
       "      <td>23</td>\n",
       "      <td>22</td>\n",
       "    </tr>\n",
       "    <tr>\n",
       "      <th>28817</th>\n",
       "      <td>1</td>\n",
       "      <td>31</td>\n",
       "      <td>5</td>\n",
       "      <td>AS</td>\n",
       "      <td>N581AS</td>\n",
       "      <td>SEA</td>\n",
       "      <td>283</td>\n",
       "      <td>392</td>\n",
       "      <td>2422</td>\n",
       "      <td>1125</td>\n",
       "      <td>...</td>\n",
       "      <td>38</td>\n",
       "      <td>96</td>\n",
       "      <td>N</td>\n",
       "      <td>6</td>\n",
       "      <td>0</td>\n",
       "      <td>30.18</td>\n",
       "      <td>Cloudy</td>\n",
       "      <td>19</td>\n",
       "      <td>23</td>\n",
       "      <td>21</td>\n",
       "    </tr>\n",
       "    <tr>\n",
       "      <th>28818</th>\n",
       "      <td>1</td>\n",
       "      <td>31</td>\n",
       "      <td>5</td>\n",
       "      <td>B6</td>\n",
       "      <td>N957JB</td>\n",
       "      <td>SJU</td>\n",
       "      <td>5</td>\n",
       "      <td>224</td>\n",
       "      <td>1598</td>\n",
       "      <td>1417</td>\n",
       "      <td>...</td>\n",
       "      <td>38</td>\n",
       "      <td>96</td>\n",
       "      <td>N</td>\n",
       "      <td>6</td>\n",
       "      <td>0</td>\n",
       "      <td>30.18</td>\n",
       "      <td>Cloudy</td>\n",
       "      <td>19</td>\n",
       "      <td>23</td>\n",
       "      <td>13</td>\n",
       "    </tr>\n",
       "    <tr>\n",
       "      <th>28819</th>\n",
       "      <td>1</td>\n",
       "      <td>31</td>\n",
       "      <td>5</td>\n",
       "      <td>B6</td>\n",
       "      <td>N958JB</td>\n",
       "      <td>BQN</td>\n",
       "      <td>-1</td>\n",
       "      <td>225</td>\n",
       "      <td>1576</td>\n",
       "      <td>1439</td>\n",
       "      <td>...</td>\n",
       "      <td>38</td>\n",
       "      <td>96</td>\n",
       "      <td>N</td>\n",
       "      <td>6</td>\n",
       "      <td>0</td>\n",
       "      <td>30.18</td>\n",
       "      <td>Cloudy</td>\n",
       "      <td>19</td>\n",
       "      <td>23</td>\n",
       "      <td>15</td>\n",
       "    </tr>\n",
       "  </tbody>\n",
       "</table>\n",
       "<p>5 rows × 23 columns</p>\n",
       "</div>"
      ],
      "text/plain": [
       "       MONTH  DAY_OF_MONTH  DAY_OF_WEEK OP_UNIQUE_CARRIER TAIL_NUM DEST  \\\n",
       "28815      1            31            5                B6   N216JB  ORH   \n",
       "28816      1            31            5                AA   N104NN  BOS   \n",
       "28817      1            31            5                AS   N581AS  SEA   \n",
       "28818      1            31            5                B6   N957JB  SJU   \n",
       "28819      1            31            5                B6   N958JB  BQN   \n",
       "\n",
       "       DEP_DELAY  CRS_ELAPSED_TIME  DISTANCE  CRS_DEP_M  ...  Dew Point  \\\n",
       "28815          2                57       150       1370  ...         38   \n",
       "28816          2                75       187       1390  ...         38   \n",
       "28817        283               392      2422       1125  ...         38   \n",
       "28818          5               224      1598       1417  ...         38   \n",
       "28819         -1               225      1576       1439  ...         38   \n",
       "\n",
       "       Humidity  Wind Wind Speed  Wind Gust Pressure  Condition  sch_dep  \\\n",
       "28815        96     N          6          0    30.18     Cloudy       20   \n",
       "28816        96     N          6          0    30.18     Cloudy       19   \n",
       "28817        96     N          6          0    30.18     Cloudy       19   \n",
       "28818        96     N          6          0    30.18     Cloudy       19   \n",
       "28819        96     N          6          0    30.18     Cloudy       19   \n",
       "\n",
       "       sch_arr TAXI_OUT  \n",
       "28815       32       19  \n",
       "28816       23       22  \n",
       "28817       23       21  \n",
       "28818       23       13  \n",
       "28819       23       15  \n",
       "\n",
       "[5 rows x 23 columns]"
      ]
     },
     "execution_count": 23,
     "metadata": {},
     "output_type": "execute_result"
    }
   ],
   "source": [
    "variable.tail()"
   ]
  },
  {
   "cell_type": "code",
   "execution_count": 24,
   "metadata": {},
   "outputs": [],
   "source": [
    "from sklearn.preprocessing import LabelEncoder\n",
    "label_encoder = LabelEncoder()\n",
    "X1 = pd.get_dummies(X1, columns = ['MONTH','DAY_OF_MONTH','DAY_OF_WEEK','OP_UNIQUE_CARRIER','DEST'])\n",
    "X1['TAIL_NUM']=LE.fit_transform(X1['TAIL_NUM'])\n",
    "X1['Wind']=LE.fit_transform(X1['Wind'].astype(str))\n",
    "X1['Condition']=LE.fit_transform(X1['Condition'])\n",
    "#had to label encode these 3 coloumns for accurate model"
   ]
  },
  {
   "cell_type": "code",
   "execution_count": 25,
   "metadata": {},
   "outputs": [],
   "source": [
    "X1_train,X1_test,Y1_train,Y1_test = train_test_split(X1,Y1,test_size=0.1,random_state=1)"
   ]
  },
  {
   "cell_type": "code",
   "execution_count": 26,
   "metadata": {},
   "outputs": [
    {
     "name": "stdout",
     "output_type": "stream",
     "text": [
      "       TAIL_NUM  DEP_DELAY  CRS_ELAPSED_TIME  DISTANCE  CRS_DEP_M  DEP_TIME_M  \\\n",
      "12993       488         -5                85       187       1034        1029   \n",
      "27224      1201         -3               411      2586        580         577   \n",
      "17691      1708         -5               126       427       1181        1176   \n",
      "27466       457         -7                88       301       1370        1363   \n",
      "4622        542        -14               192      1089        485         471   \n",
      "...         ...        ...               ...       ...        ...         ...   \n",
      "10955      1644        -10               100       266       1320        1310   \n",
      "17289       531         -3               183       944        994         991   \n",
      "5192       1211         -5               412      2586       1199        1194   \n",
      "12172         8         -2               384      2475       1320        1318   \n",
      "235         242         33               188      1069       1130        1163   \n",
      "\n",
      "       CRS_ARR_M  Temperature Dew Point  Humidity  ...  DEST_SEA  DEST_SFO  \\\n",
      "12993       1119           31        17        57  ...         0         0   \n",
      "27224        811           40        32        73  ...         0         1   \n",
      "17691       1307           50        46        86  ...         0         0   \n",
      "27466         18           42        28        58  ...         0         0   \n",
      "4622         677           40        27        60  ...         0         0   \n",
      "...          ...          ...       ...       ...  ...       ...       ...   \n",
      "10955       1420           39        25        57  ...         0         0   \n",
      "17289       1177           46        41        83  ...         0         0   \n",
      "5192        1431           34        5         30  ...         0         1   \n",
      "12172         84           50        50        10  ...         0         0   \n",
      "235         1318           49        30        48  ...         0         0   \n",
      "\n",
      "       DEST_SJC  DEST_SJU  DEST_SLC  DEST_SMF  DEST_SRQ  DEST_STT  DEST_SYR  \\\n",
      "12993         0         0         0         0         0         0         0   \n",
      "27224         0         0         0         0         0         0         0   \n",
      "17691         0         0         0         0         0         0         0   \n",
      "27466         0         0         0         0         0         0         0   \n",
      "4622          0         0         0         0         0         0         0   \n",
      "...         ...       ...       ...       ...       ...       ...       ...   \n",
      "10955         0         0         0         0         0         0         0   \n",
      "17289         0         0         0         0         0         0         0   \n",
      "5192          0         0         0         0         0         0         0   \n",
      "12172         0         0         0         0         0         0         0   \n",
      "235           0         0         0         0         0         0         0   \n",
      "\n",
      "       DEST_TPA  \n",
      "12993         0  \n",
      "27224         0  \n",
      "17691         0  \n",
      "27466         0  \n",
      "4622          0  \n",
      "...         ...  \n",
      "10955         0  \n",
      "17289         0  \n",
      "5192          0  \n",
      "12172         0  \n",
      "235           0  \n",
      "\n",
      "[25938 rows x 132 columns]\n"
     ]
    }
   ],
   "source": [
    "print(X1_train)"
   ]
  },
  {
   "cell_type": "code",
   "execution_count": 27,
   "metadata": {},
   "outputs": [
    {
     "name": "stdout",
     "output_type": "stream",
     "text": [
      "(25938, 132) (2882, 132) (25938,) (2882,)\n"
     ]
    }
   ],
   "source": [
    "print(X1_train.shape,X1_test.shape,Y1_train.shape,Y1_test.shape)"
   ]
  },
  {
   "cell_type": "code",
   "execution_count": 28,
   "metadata": {},
   "outputs": [],
   "source": [
    "# data has been one hot encoded"
   ]
  },
  {
   "cell_type": "code",
   "execution_count": 29,
   "metadata": {},
   "outputs": [],
   "source": [
    "rmseh=np.empty(8,dtype=float)"
   ]
  },
  {
   "cell_type": "markdown",
   "metadata": {},
   "source": [
    "# Linear Regression "
   ]
  },
  {
   "cell_type": "code",
   "execution_count": 30,
   "metadata": {},
   "outputs": [
    {
     "name": "stdout",
     "output_type": "stream",
     "text": [
      "6.281311894533952\n"
     ]
    }
   ],
   "source": [
    "lng.fit(X1_train,Y1_train)\n",
    "predo1=lng.predict(X1_test)\n",
    "rmseh[0]=mean_squared_error(Y1_test,predo1)**0.5\n",
    "print(rmseh[0])"
   ]
  },
  {
   "cell_type": "markdown",
   "metadata": {},
   "source": [
    "# Ridge Regression"
   ]
  },
  {
   "cell_type": "code",
   "execution_count": 31,
   "metadata": {},
   "outputs": [
    {
     "name": "stdout",
     "output_type": "stream",
     "text": [
      "6.290727692502077\n"
     ]
    }
   ],
   "source": [
    "ridge.fit(X1_train,Y1_train)\n",
    "predo2 = ridge.predict(X1_test)\n",
    "rmseh[1] = mean_squared_error(Y1_test,predo2)**0.5\n",
    "print(rmseh[1])"
   ]
  },
  {
   "cell_type": "markdown",
   "metadata": {},
   "source": [
    "# Lasso Regression"
   ]
  },
  {
   "cell_type": "code",
   "execution_count": 32,
   "metadata": {},
   "outputs": [
    {
     "name": "stdout",
     "output_type": "stream",
     "text": [
      "6.832364662675594\n"
     ]
    }
   ],
   "source": [
    "lasreg.fit(X1_train,Y1_train)\n",
    "predo3=lasreg.predict(X1_test)\n",
    "rmseh[2]=mean_squared_error(Y1_test,predo3)**0.5\n",
    "print(rmseh[2])"
   ]
  },
  {
   "cell_type": "markdown",
   "metadata": {},
   "source": [
    "# KNN Regression"
   ]
  },
  {
   "cell_type": "code",
   "execution_count": 33,
   "metadata": {},
   "outputs": [
    {
     "name": "stdout",
     "output_type": "stream",
     "text": [
      "6.63393776924101\n"
     ]
    }
   ],
   "source": [
    "KNN=KNeighborsRegressor(n_neighbors=100)\n",
    "KNN.fit(X1_train,Y1_train)\n",
    "predo4=KNN.predict(X1_test)\n",
    "rmseh[3]=mean_squared_error(Y1_test,predo4)**0.5\n",
    "print(rmseh[3])"
   ]
  },
  {
   "cell_type": "markdown",
   "metadata": {},
   "source": [
    "# SVM Regression"
   ]
  },
  {
   "cell_type": "code",
   "execution_count": 34,
   "metadata": {},
   "outputs": [
    {
     "name": "stdout",
     "output_type": "stream",
     "text": [
      "6.237982627722775\n"
     ]
    }
   ],
   "source": [
    "\n",
    "std_X1_train = X1_train.copy()\n",
    "std_X1_train = std.fit_transform(std_X1_train)\n",
    "std_X1_test = X1_test.copy()\n",
    "std_X1_test = std.fit_transform(std_X1_test)\n",
    "svr.fit(std_X1_train,Y1_train)\n",
    "predo5 = svr.predict(std_X1_test)\n",
    "rmseh[4]=mean_squared_error(Y1_test,predo5)**0.5\n",
    "print(rmseh[4])"
   ]
  },
  {
   "cell_type": "markdown",
   "metadata": {},
   "source": [
    "#  Naive Bayes"
   ]
  },
  {
   "cell_type": "code",
   "execution_count": 35,
   "metadata": {},
   "outputs": [
    {
     "name": "stdout",
     "output_type": "stream",
     "text": [
      "6.283505972266983\n"
     ]
    }
   ],
   "source": [
    "NB.fit(X1_train,Y1_train)\n",
    "predo6=NB.predict(X1_test)\n",
    "rmseh[5]=mean_squared_error(Y1_test,predo6)**0.5\n",
    "print(rmseh[5])"
   ]
  },
  {
   "cell_type": "markdown",
   "metadata": {},
   "source": [
    "# Random Forest Regression"
   ]
  },
  {
   "cell_type": "code",
   "execution_count": 36,
   "metadata": {},
   "outputs": [
    {
     "name": "stdout",
     "output_type": "stream",
     "text": [
      "5.564628666220377\n"
     ]
    }
   ],
   "source": [
    "RanFor.fit(X1_train,Y1_train)\n",
    "predo7=RanFor.predict(X1_test)\n",
    "rmseh[6]=mean_squared_error(Y1_test,predo7)**0.5\n",
    "print(rmseh[6])"
   ]
  },
  {
   "cell_type": "markdown",
   "metadata": {},
   "source": [
    "# LightGBM"
   ]
  },
  {
   "cell_type": "code",
   "execution_count": 37,
   "metadata": {},
   "outputs": [
    {
     "name": "stdout",
     "output_type": "stream",
     "text": [
      "5.708834864866667\n"
     ]
    }
   ],
   "source": [
    "X1_lgbm_train=X1_train.drop(\"Dew Point\",axis=1).copy()\n",
    "X1_lgbm_test=X1_test.drop(\"Dew Point\",axis=1).copy()\n",
    "lgbm.fit(X1_lgbm_train,Y1_train)\n",
    "predo8 = lgbm.predict(X1_lgbm_test)\n",
    "rmseh[7] = mean_squared_error(Y1_test,predo8)**0.5\n",
    "print(rmseh[7])"
   ]
  },
  {
   "cell_type": "code",
   "execution_count": 38,
   "metadata": {},
   "outputs": [
    {
     "data": {
      "text/plain": [
       "Text(0, 0.5, 'Root Mean Squared Error')"
      ]
     },
     "execution_count": 38,
     "metadata": {},
     "output_type": "execute_result"
    },
    {
     "data": {
      "image/png": "[encoded data removed]",
      "text/plain": [
       "<Figure size 432x288 with 1 Axes>"
      ]
     },
     "metadata": {
      "needs_background": "light"
     },
     "output_type": "display_data"
    }
   ],
   "source": [
    "algos=[\"LNR\",\"RR\",\"LSR\",\"KNNR\",\"SVR\",\"NBR\",\"RFR\",\"LGBM\"]\n",
    "plt.plot(algos,rmse)\n",
    "plt.plot(algos,rmseh,'r')\n",
    "plt.legend([\"Label Encoding\",\"One Hot Encoding\"])\n",
    "plt.grid()\n",
    "plt.xlabel(\"Algorithms\")\n",
    "plt.ylabel(\"Root Mean Squared Error\")"
   ]
  },
  {
   "cell_type": "code",
   "execution_count": null,
   "metadata": {},
   "outputs": [],
   "source": []
  }
 ],
 "metadata": {
  "kernelspec": {
   "display_name": "Python 3",
   "language": "python",
   "name": "python3"
  },
  "language_info": {
   "codemirror_mode": {
    "name": "ipython",
    "version": 3
   },
   "file_extension": ".py",
   "mimetype": "text/x-python",
   "name": "python",
   "nbconvert_exporter": "python",
   "pygments_lexer": "ipython3",
   "version": "3.8.2"
  }
 },
 "nbformat": 4,
 "nbformat_minor": 4
}
